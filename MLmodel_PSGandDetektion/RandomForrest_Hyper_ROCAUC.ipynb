{
 "cells": [
  {
   "cell_type": "code",
   "execution_count": 25,
   "metadata": {},
   "outputs": [],
   "source": [
    "import pandas as pd\n",
    "import numpy as np\n",
    "import matplotlib.pyplot as plt\n",
    "# Import train_test_split function\n",
    "from sklearn.model_selection import train_test_split\n",
    "from sklearn.model_selection import GridSearchCV\n",
    "# import random forest classifier\n",
    "from sklearn.ensemble import RandomForestClassifier\n",
    "from sklearn.metrics import roc_auc_score, roc_curve\n",
    "from sklearn.metrics import confusion_matrix\n",
    "import seaborn as sns\n"
   ]
  },
  {
   "cell_type": "code",
   "execution_count": 26,
   "metadata": {},
   "outputs": [
    {
     "ename": "IndexError",
     "evalue": "too many indices for array: array is 1-dimensional, but 2 were indexed",
     "output_type": "error",
     "traceback": [
      "\u001b[1;31m---------------------------------------------------------------------------\u001b[0m",
      "\u001b[1;31mIndexError\u001b[0m                                Traceback (most recent call last)",
      "Cell \u001b[1;32mIn[26], line 39\u001b[0m\n\u001b[0;32m     36\u001b[0m rf\u001b[39m.\u001b[39mfit(X_train, y_train)\n\u001b[0;32m     38\u001b[0m \u001b[39m# Forudsæt klassifikation for testdata\u001b[39;00m\n\u001b[1;32m---> 39\u001b[0m y_pred \u001b[39m=\u001b[39m rf\u001b[39m.\u001b[39;49mpredict(X_test)[:,\u001b[39m1\u001b[39;49m]\n\u001b[0;32m     41\u001b[0m \u001b[39m# Opret en forvirringsmatrix\u001b[39;00m\n\u001b[0;32m     42\u001b[0m cm \u001b[39m=\u001b[39m confusion_matrix(y_test, y_pred)\n",
      "\u001b[1;31mIndexError\u001b[0m: too many indices for array: array is 1-dimensional, but 2 were indexed"
     ]
    }
   ],
   "source": [
    "# Load dataset into a pandas DataFrame\n",
    "data = pd.read_csv('C:/Users/mathi/OneDrive/Skrivebord/2_Sem_Kand/Projekt_Kandidat2/Projekt_Kandidat2/DataPreb/DataPSGandDetektion.csv')\n",
    "\n",
    "X = data[['AGEBL', 'HEIGHTBL', 'AVGHR', 'AVGRR', 'NYHABL', 'BEDEXITDURATION', 'DURATIONSLEEPONSET', 'WEIGHTBL', 'DURATIONINLIGHT', 'SLEEPSCORE']]\n",
    "\n",
    "y = data['SLEEPAPNEA']\n",
    "\n",
    "patient_ids = data['patient_ID']\n",
    "\n",
    "# ## Alle nætter = 4426 \n",
    "test = [571, 584, 612] # Nætter søvnapnø = 95\n",
    "train = [510, 459, 431] # Nætter søvnapnø = 627\n",
    "\n",
    "# Find unikke patient-ID'er\n",
    "unique_patients = np.unique(patient_ids)\n",
    "\n",
    "# Fjern train_patients fra unique_patients og test_patients fra unique_patients\n",
    "unique_patients = unique_patients[~np.isin(unique_patients, train)]\n",
    "unique_patients = unique_patients[~np.isin(unique_patients, test)]\n",
    "\n",
    "# Opdel patient-ID'er i træning og test\n",
    "train_patients, test_patients = train_test_split(unique_patients, test_size=0.2, random_state=42)\n",
    "\n",
    "# Tilføj train til train_patients og test til test_patients\n",
    "train_patients = np.append(train_patients, train)\n",
    "test_patients = np.append(test_patients, test)\n",
    "\n",
    "# Opdel data efter patient-ID\n",
    "X_train = X[patient_ids.isin(train_patients)]\n",
    "y_train = y[patient_ids.isin(train_patients)]\n",
    "X_test = X[patient_ids.isin(test_patients)]\n",
    "y_test = y[patient_ids.isin(test_patients)]\n",
    "\n",
    "# Træn en Random Forest-klassifikator\n",
    "rf = RandomForestClassifier(random_state=42)\n",
    "rf.fit(X_train, y_train)\n",
    "\n",
    "# Forudsæt klassifikation for testdata\n",
    "y_pred = rf.predict(X_test)\n",
    "\n",
    "# Opret en forvirringsmatrix\n",
    "cm = confusion_matrix(y_test, y_pred)\n",
    "\n",
    "# Plot forvirringsmatricen\n",
    "plt.figure(figsize=(8, 6))\n",
    "sns.heatmap(cm, annot=True, fmt='d', cmap='Blues')\n",
    "plt.xlabel('Predicted')\n",
    "plt.ylabel('True')\n",
    "plt.show()\n",
    "\n",
    "\n",
    "\n"
   ]
  }
 ],
 "metadata": {
  "kernelspec": {
   "display_name": "Python 3",
   "language": "python",
   "name": "python3"
  },
  "language_info": {
   "codemirror_mode": {
    "name": "ipython",
    "version": 3
   },
   "file_extension": ".py",
   "mimetype": "text/x-python",
   "name": "python",
   "nbconvert_exporter": "python",
   "pygments_lexer": "ipython3",
   "version": "3.11.0"
  },
  "orig_nbformat": 4
 },
 "nbformat": 4,
 "nbformat_minor": 2
}
