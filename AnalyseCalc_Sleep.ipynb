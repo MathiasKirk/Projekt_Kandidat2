{
 "cells": [
  {
   "cell_type": "code",
   "execution_count": 15,
   "metadata": {},
   "outputs": [],
   "source": [
    "import pandas as pd\n",
    "import numpy as np\n",
    "import json\n",
    "# Show all columns\n",
    "pd.set_option('display.max_columns', None)\n",
    "# data = pd.read_csv('C:/Users/mathi/OneDrive/Skrivebord/2_Sem_Kand/Projekt_Kandidat2/DataPrep.csv')\n",
    "# data"
   ]
  },
  {
   "cell_type": "code",
   "execution_count": 16,
   "metadata": {},
   "outputs": [],
   "source": [
    "# Show only calc_data, patient_ID and from_datetime # Also show sleep_score duration    duration_in_bed duration_awake  duration_in_sleep   duration_in_rem duration_in_light   duration_in_deep    duration_sleep_onset    bedexit_duration    sleep_data  bedexit_count   bedexit_data    \n",
    "# data = data[['calc_data', 'patient_ID', 'from_datetime', 'sleep_score', 'duration', 'duration_in_bed', 'duration_awake', 'duration_in_sleep', 'duration_in_rem', 'duration_in_light', 'duration_in_deep', 'duration_sleep_onset', 'bedexit_duration', 'sleep_data', 'bedexit_count', 'bedexit_data']]\n",
    "# Each row is a night of sleep. In calc_data we have [TIMESTAMP, HEART_RATE, RESPIRATION_RATE, ACTIVITY] for each 4 seconds. In sleep_data [TIMESTAMP, SLEEP_CLASS_TYPE] hvert 10-20 minut (Sleep class types: 1 = deep, 2 = light, 3 = rem, 4 = awake). I want in calc_data rows lists to remove the data where sleep_data type er 4 (awake). Dvs. at hvergang unix timestamp i calc_data er lig med unix timestamp i sleep_data skal jeg fjerne data fra calc_data indtil at sleep_data ikke er 4 mere.\n",
    "# \"sleep_data\":\"[[1519416598,4],[1519418338,1],[1519418818,2],[1519419388,3],[1519419988,2],[1519421128,3],[1519422808,2],[1519424458,1],[1519425238,2],[1519426738,1],[1519428118,2],[1519429078,3],[1519430488,2],[1519431688,3],[1519432108,2],[1519434058,3],[1519434808,2],[1519436038,3],[1519436818,2],[1519438528,1],[1519439278,2],[1519439878,3],[1519440928,2],[1519442008,3],[1519442488,2],[1519443298,3],[1519444288,4],[1519445548,2],[1519445908,1],[1519446568,2],[1519447858,1],[1519449418,2],[1519449478,4],[1519450078,2],[1519451338,1],[1519452088,2],[1519452778,3],[1519453648,4]]\"\n",
    "# \"calc_data\":\"[[1519416583,null,null,24],[1519416587,null,null,10],[1519416591,null,null,12],[1519416595,null,null,11],[1519416599,null,null,17],[1519416603,null,null,32],[1519416607,null,null,13],[1519416611,null,null,38],[1519416615,null,null,29],[1519416619,null,null,18],[1519416623,null,null,32],[1519416627,null,null,40],[1519416631,null,null,29],[1519416635,null,null,23],[1519416639,null,null,27],[1519416643,null,null,19],[1519416647,null,null,33],[1519416651,null,null,23],[1519416655,null,null,21],[1519416659,null,null,15],[1519416663,null,null,32],[1519416667,null,null,18],[1519416671,null,null,17],[1519416675,null,null,22],[1519416679,null,null,15],[1519416683,null,null,20],[1519416687,null,null,20],[1519416691,null,null,121],[1519416695,null,null,16],[1519416699,null,null,13],[1519416703,null,null,14],[1519416707,null,null,16],[1519416711,null,null,17],[1519416715,null,null,16],[1519416719,null,null,23],[1519416723,null,null,19],[1519416727,null,null,16],[1519416731,null,null,12],[1519416735,null,null,18],[1519416739,null,null,15],[1519416743,null,null,19],[1519416747,null,null,29],[1519416751,null,null,22],[1519416755,null,null,11],[1519416759,null,null,25],[1519416763,null,null,21],[1519416767,null,null,15],[1519416771,null,null,13],[1519416775,null,null,16],[1519416779,null,null,20],[1519416783,null,null,31],[1519416787,null,null,32],[1519416791,null,null,23],[1519416795,null,null,18],[1519416799,null,null,31],[1519416803,null,null,28],[1519416807,null,null,22],[1519416811,null,null,22],[1519416815,null,null,26],[1519416819,null,null,26],[1519416823,null,null,29],[1519416827,null,null,18],[1519416831,null,null,21],[1519416835,null,null,19],[1519416839,null,null,27],[1519416843,null,null,20],[1519416847,null,null,10],[1519416851,null,null,20],[1519416855,null,null,17],[1519416859,null,null,22],[1519416863,null,null,14],[1519416867,null,null,12],[1519416871,null,null,24],[1519416875,61,null,17],[1519416879,61,null,18],[1519416883,61,null,7],[1519416887,61,null,10]\"\n",
    "# calc_data indeholder langt flere timestamps end sleep_data. Jeg vil gerne have at hvergang timestamp i calc_data er lig med timestamp i sleep_data skal jeg fjerne data fra calc_data indtil at sleep_data ikke er 4 mere. Dvs. at jeg vil gerne have at calc_data indeholder kun timestamps som er lig med timestamps i sleep_data og hvor sleep_data ikke er 4.\n",
    "\n",
    "# # Remove NaN values from sleep_data \n",
    "# data = data.dropna(subset=['sleep_data'])\n",
    "# # Reset index\n",
    "# data = data.reset_index(drop=True)\n",
    "# ## Convert string in calc_data to list of lists\n",
    "# # data['calc_data'] = data['calc_data'].apply(json.loads)\n",
    "# data['sleep_data'] = data['sleep_data'].apply(json.loads)\n",
    "# timestamps = []\n",
    "# for i in range(len(data['sleep_data'])):\n",
    "#     timestamps_i = []  # Create a new list for each i\n",
    "#     for j in range(len(data['sleep_data'][i])-1):\n",
    "#         curr_sublist = data['sleep_data'][i][j]\n",
    "#         next_sublist = data['sleep_data'][i][j+1]\n",
    "#         if curr_sublist[1] == 4:\n",
    "#             for k in range(curr_sublist[0], next_sublist[0]):\n",
    "#                 timestamps_i.append(k)  # Append each timestamp to the list\n",
    "#     timestamps.append(timestamps_i)  # Append the list for i to the main list\n",
    "# #     print(timestamps_i)  # Print the list for debugging purposes\n",
    "# # print(timestamps)  # Print the main list for debugging purposes\n",
    "\n",
    "# # Create a new column in the dataframe\n",
    "# data['timestamps'] = timestamps\n",
    "\n",
    "# # Save the dataframe to a csv file\n",
    "# data.to_csv('data.csv', index=False)"
   ]
  },
  {
   "cell_type": "code",
   "execution_count": 17,
   "metadata": {},
   "outputs": [
    {
     "ename": "ValueError",
     "evalue": "Must provide an even number of non-keyword arguments",
     "output_type": "error",
     "traceback": [
      "\u001b[1;31m---------------------------------------------------------------------------\u001b[0m",
      "\u001b[1;31mValueError\u001b[0m                                Traceback (most recent call last)",
      "Cell \u001b[1;32mIn[17], line 5\u001b[0m\n\u001b[0;32m      1\u001b[0m data \u001b[39m=\u001b[39m pd\u001b[39m.\u001b[39mread_csv(\u001b[39m'\u001b[39m\u001b[39mC:/Users/mathi/OneDrive/Skrivebord/2_Sem_Kand/Projekt_Kandidat2/data.csv\u001b[39m\u001b[39m'\u001b[39m)\n\u001b[0;32m      4\u001b[0m \u001b[39m# Print the full lists in the column 'timestamps'\u001b[39;00m\n\u001b[1;32m----> 5\u001b[0m pd\u001b[39m.\u001b[39;49mset_option(\u001b[39m'\u001b[39;49m\u001b[39mdisplay.max_colwidth\u001b[39;49m\u001b[39m'\u001b[39;49m)\n\u001b[0;32m      6\u001b[0m data\n",
      "File \u001b[1;32mc:\\Python311\\Lib\\site-packages\\pandas\\_config\\config.py:263\u001b[0m, in \u001b[0;36mCallableDynamicDoc.__call__\u001b[1;34m(self, *args, **kwds)\u001b[0m\n\u001b[0;32m    262\u001b[0m \u001b[39mdef\u001b[39;00m \u001b[39m__call__\u001b[39m(\u001b[39mself\u001b[39m, \u001b[39m*\u001b[39margs, \u001b[39m*\u001b[39m\u001b[39m*\u001b[39mkwds) \u001b[39m-\u001b[39m\u001b[39m>\u001b[39m T:\n\u001b[1;32m--> 263\u001b[0m     \u001b[39mreturn\u001b[39;00m \u001b[39mself\u001b[39;49m\u001b[39m.\u001b[39;49m\u001b[39m__func__\u001b[39;49m(\u001b[39m*\u001b[39;49margs, \u001b[39m*\u001b[39;49m\u001b[39m*\u001b[39;49mkwds)\n",
      "File \u001b[1;32mc:\\Python311\\Lib\\site-packages\\pandas\\_config\\config.py:146\u001b[0m, in \u001b[0;36m_set_option\u001b[1;34m(*args, **kwargs)\u001b[0m\n\u001b[0;32m    144\u001b[0m nargs \u001b[39m=\u001b[39m \u001b[39mlen\u001b[39m(args)\n\u001b[0;32m    145\u001b[0m \u001b[39mif\u001b[39;00m \u001b[39mnot\u001b[39;00m nargs \u001b[39mor\u001b[39;00m nargs \u001b[39m%\u001b[39m \u001b[39m2\u001b[39m \u001b[39m!=\u001b[39m \u001b[39m0\u001b[39m:\n\u001b[1;32m--> 146\u001b[0m     \u001b[39mraise\u001b[39;00m \u001b[39mValueError\u001b[39;00m(\u001b[39m\"\u001b[39m\u001b[39mMust provide an even number of non-keyword arguments\u001b[39m\u001b[39m\"\u001b[39m)\n\u001b[0;32m    148\u001b[0m \u001b[39m# default to false\u001b[39;00m\n\u001b[0;32m    149\u001b[0m silent \u001b[39m=\u001b[39m kwargs\u001b[39m.\u001b[39mpop(\u001b[39m\"\u001b[39m\u001b[39msilent\u001b[39m\u001b[39m\"\u001b[39m, \u001b[39mFalse\u001b[39;00m)\n",
      "\u001b[1;31mValueError\u001b[0m: Must provide an even number of non-keyword arguments"
     ]
    }
   ],
   "source": [
    "data = pd.read_csv('C:/Users/mathi/OneDrive/Skrivebord/2_Sem_Kand/Projekt_Kandidat2/data.csv')\n",
    "\n",
    "\n",
    "# Print the full lists in the column 'timestamps'\n",
    "pd.set_option('display.max_colwidth', -1)\n",
    "data\n"
   ]
  }
 ],
 "metadata": {
  "kernelspec": {
   "display_name": "Python 3",
   "language": "python",
   "name": "python3"
  },
  "language_info": {
   "codemirror_mode": {
    "name": "ipython",
    "version": 3
   },
   "file_extension": ".py",
   "mimetype": "text/x-python",
   "name": "python",
   "nbconvert_exporter": "python",
   "pygments_lexer": "ipython3",
   "version": "3.11.0"
  },
  "orig_nbformat": 4
 },
 "nbformat": 4,
 "nbformat_minor": 2
}
