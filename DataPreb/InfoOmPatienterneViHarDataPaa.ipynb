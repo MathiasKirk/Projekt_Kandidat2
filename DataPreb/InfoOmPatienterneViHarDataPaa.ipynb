{
 "cells": [
  {
   "cell_type": "code",
   "execution_count": 6,
   "metadata": {},
   "outputs": [
    {
     "name": "stdout",
     "output_type": "stream",
     "text": [
      "Number of patients in each NYHABL category:\n",
      " 1.0     3\n",
      "2.0    28\n",
      "3.0    13\n",
      "Name: NYHABL, dtype: int64\n",
      "EF (Mean±SD) for the EFTITBL column: 34.79 ± 11.47\n"
     ]
    }
   ],
   "source": [
    "import pandas as pd\n",
    "import numpy as np\n",
    "# Show all columns\n",
    "pd.set_option('display.max_columns', None)\n",
    "\n",
    "df = pd.read_csv('C:/Users/mathi/OneDrive/Skrivebord/2_Sem_Kand/Projekt_Kandidat2/Projekt_Kandidat2/Data3.csv')\n",
    "# df\n",
    "# # Assuming the dataframe is called 'df'\n",
    "# male_count = df[df['GENDER'] == 0]['patient_ID'].nunique()\n",
    "# female_count = df[df['GENDER'] == 1]['patient_ID'].nunique()\n",
    "\n",
    "# print(\"Number of male patient IDs: \", male_count)\n",
    "# print(\"Number of female patient IDs: \", female_count)\n",
    "\n",
    "# I now want the mean + std of the age of the patients  AGEBL\n",
    "# Assuming your dataframe is called 'df'\n",
    "# men_age = df[df['GENDER'] == 0]['AGEBL']\n",
    "# women_age = df[df['GENDER'] == 1]['AGEBL']\n",
    "# all_age = df['AGEBL']\n",
    "\n",
    "# # Calculate mean and standard deviation for men\n",
    "# men_mean_age = men_age.mean()\n",
    "# men_std_age = men_age.std()\n",
    "\n",
    "# # Calculate mean and standard deviation for women\n",
    "# women_mean_age = women_age.mean()\n",
    "# women_std_age = women_age.std()\n",
    "\n",
    "# # Calculate mean and standard deviation for all patients\n",
    "# all_mean_age = all_age.mean()\n",
    "# all_std_age = all_age.std()\n",
    "\n",
    "# # Print the results\n",
    "# print(\"Mean age for men: \", men_mean_age)\n",
    "# print(\"Standard deviation of age for men: \", men_std_age)\n",
    "# print(\"Mean age for women: \", women_mean_age)\n",
    "# print(\"Standard deviation of age for women: \", women_std_age)\n",
    "# print(\"Mean age for all patients: \", all_mean_age)\n",
    "# print(\"Standard deviation of age for all patients: \", all_std_age)\n",
    "\n",
    "# # Assuming your dataframe is called 'df'\n",
    "# nyhabl_counts = df.drop_duplicates(subset=['patient_ID'])['NYHABL'].value_counts().sort_index()\n",
    "\n",
    "# # Print the results\n",
    "# print(\"Number of patients in each NYHABL category:\\n\", nyhabl_counts)\n",
    "\n",
    "# # Assuming your dataframe is called 'df'\n",
    "# ef_mean = df['EFTITBL'].mean()\n",
    "# ef_std = df['EFTITBL'].std()\n",
    "\n",
    "# # Print the results\n",
    "# print(\"EF (Mean±SD) for the EFTITBL column: {:.2f} ± {:.2f}\".format(ef_mean, ef_std))\n",
    "\n",
    "\n",
    "\n"
   ]
  }
 ],
 "metadata": {
  "kernelspec": {
   "display_name": "Python 3",
   "language": "python",
   "name": "python3"
  },
  "language_info": {
   "codemirror_mode": {
    "name": "ipython",
    "version": 3
   },
   "file_extension": ".py",
   "mimetype": "text/x-python",
   "name": "python",
   "nbconvert_exporter": "python",
   "pygments_lexer": "ipython3",
   "version": "3.11.0"
  },
  "orig_nbformat": 4
 },
 "nbformat": 4,
 "nbformat_minor": 2
}
