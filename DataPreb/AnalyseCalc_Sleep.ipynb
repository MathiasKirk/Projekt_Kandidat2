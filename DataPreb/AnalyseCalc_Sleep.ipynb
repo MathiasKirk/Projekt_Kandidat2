{
 "cells": [
  {
   "cell_type": "code",
   "execution_count": 137,
   "metadata": {},
   "outputs": [],
   "source": [
    "import pandas as pd\n",
    "import numpy as np\n",
    "import json\n",
    "import matplotlib.pyplot as plt\n",
    "# Show all columns\n",
    "pd.set_option('display.max_columns', None)\n",
    "# data = pd.read_csv('C:/Users/mathi/OneDrive/Skrivebord/2_Sem_Kand/Projekt_Kandidat2/Projekt_Kandidat2/dataNew.csv')\n",
    "# Do not show the full lists of values in the columns \n",
    "pd.set_option('display.max_colwidth', 50)\n",
    "\n",
    "# data"
   ]
  },
  {
   "attachments": {},
   "cell_type": "markdown",
   "metadata": {},
   "source": [
    "### Laver selve filteret"
   ]
  },
  {
   "cell_type": "code",
   "execution_count": 138,
   "metadata": {},
   "outputs": [],
   "source": [
    "# Show only calc_data, patient_ID and from_datetime # Also show sleep_score duration    duration_in_bed duration_awake  duration_in_sleep   duration_in_rem duration_in_light   duration_in_deep    duration_sleep_onset    bedexit_duration    sleep_data  bedexit_count   bedexit_data    \n",
    "# data = data[['calc_data', 'patient_ID', 'from_datetime', 'sleep_score', 'duration', 'duration_in_bed', 'duration_awake', 'duration_in_sleep', 'duration_in_rem', 'duration_in_light', 'duration_in_deep', 'duration_sleep_onset', 'bedexit_duration', 'sleep_data', 'bedexit_count', 'bedexit_data']]\n",
    "# Each row is a night of sleep. In calc_data we have [TIMESTAMP, HEART_RATE, RESPIRATION_RATE, ACTIVITY] for each 4 seconds. In sleep_data [TIMESTAMP, SLEEP_CLASS_TYPE] hvert 10-20 minut (Sleep class types: 1 = deep, 2 = light, 3 = rem, 4 = awake). I want in calc_data rows lists to remove the data where sleep_data type er 4 (awake). Dvs. at hvergang unix timestamp i calc_data er lig med unix timestamp i sleep_data skal jeg fjerne data fra calc_data indtil at sleep_data ikke er 4 mere.\n",
    "# \"sleep_data\":\"[[1519416598,4],[1519418338,1],[1519418818,2],[1519419388,3],[1519419988,2],[1519421128,3],[1519422808,2],[1519424458,1],[1519425238,2],[1519426738,1],[1519428118,2],[1519429078,3],[1519430488,2],[1519431688,3],[1519432108,2],[1519434058,3],[1519434808,2],[1519436038,3],[1519436818,2],[1519438528,1],[1519439278,2],[1519439878,3],[1519440928,2],[1519442008,3],[1519442488,2],[1519443298,3],[1519444288,4],[1519445548,2],[1519445908,1],[1519446568,2],[1519447858,1],[1519449418,2],[1519449478,4],[1519450078,2],[1519451338,1],[1519452088,2],[1519452778,3],[1519453648,4]]\"\n",
    "\n",
    "# \"calc_data\":\"[[1519416583,null,null,24],[1519416587,null,null,10],[1519416591,null,null,12],[1519416595,null,null,11],[1519416599,null,null,17],[1519416603,null,null,32],[1519416607,null,null,13],[1519416611,null,null,38],[1519416615,null,null,29],[1519416619,null,null,18],[1519416623,null,null,32],[1519416627,null,null,40],[1519416631,null,null,29],[1519416635,null,null,23],[1519416639,null,null,27],[1519416643,null,null,19],[1519416647,null,null,33],[1519416651,null,null,23],[1519416655,null,null,21],[1519416659,null,null,15],[1519416663,null,null,32],[1519416667,null,null,18],[1519416671,null,null,17],[1519416675,null,null,22],[1519416679,null,null,15],[1519416683,null,null,20],[1519416687,null,null,20],[1519416691,null,null,121],[1519416695,null,null,16],[1519416699,null,null,13],[1519416703,null,null,14],[1519416707,null,null,16],[1519416711,null,null,17],[1519416715,null,null,16],[1519416719,null,null,23],[1519416723,null,null,19],[1519416727,null,null,16],[1519416731,null,null,12],[1519416735,null,null,18],[1519416739,null,null,15],[1519416743,null,null,19],[1519416747,null,null,29],[1519416751,null,null,22],[1519416755,null,null,11],[1519416759,null,null,25],[1519416763,null,null,21],[1519416767,null,null,15],[1519416771,null,null,13],[1519416775,null,null,16],[1519416779,null,null,20],[1519416783,null,null,31],[1519416787,null,null,32],[1519416791,null,null,23],[1519416795,null,null,18],[1519416799,null,null,31],[1519416803,null,null,28],[1519416807,null,null,22],[1519416811,null,null,22],[1519416815,null,null,26],[1519416819,null,null,26],[1519416823,null,null,29],[1519416827,null,null,18],[1519416831,null,null,21],[1519416835,null,null,19],[1519416839,null,null,27],[1519416843,null,null,20],[1519416847,null,null,10],[1519416851,null,null,20],[1519416855,null,null,17],[1519416859,null,null,22],[1519416863,null,null,14],[1519416867,null,null,12],[1519416871,null,null,24],[1519416875,61,null,17],[1519416879,61,null,18],[1519416883,61,null,7],[1519416887,61,null,10]\"\n",
    "# calc_data indeholder langt flere timestamps end sleep_data. Jeg vil gerne have at hvergang timestamp i calc_data er lig med timestamp i sleep_data skal jeg fjerne data fra calc_data indtil at sleep_data ikke er 4 mere. Dvs. at jeg vil gerne have at calc_data indeholder kun timestamps som er lig med timestamps i sleep_data og hvor sleep_data ikke er 4.\n",
    "\n",
    "# # Remove NaN values from sleep_data \n",
    "# data = data.dropna(subset=['sleep_data'])\n",
    "# # Reset index\n",
    "# data = data.reset_index(drop=True)\n",
    "# ## Convert string in calc_data to list of lists\n",
    "# # data['calc_data'] = data['calc_data'].apply(json.loads)\n",
    "# data['sleep_data'] = data['sleep_data'].apply(json.loads)\n",
    "# timestamps = []\n",
    "# for i in range(len(data['sleep_data'])):\n",
    "#     timestamps_i = []\n",
    "#     for j in range(len(data['sleep_data'][i])-1):\n",
    "#         curr_sublist = data['sleep_data'][i][j]\n",
    "#         next_sublist = data['sleep_data'][i][j+1]\n",
    "#         if curr_sublist[1] == 4:\n",
    "#             for k in range(curr_sublist[0], next_sublist[0]):\n",
    "#                 timestamps_i.append(k)\n",
    "#             timestamps_i.append(k)\n",
    "#     if data['sleep_data'][i][-1][1] == 4:\n",
    "#         last_sublist = data['sleep_data'][i][-1]\n",
    "#         for k in range(last_sublist[0], last_sublist[0] + 2000):\n",
    "#             timestamps_i.append(k)\n",
    "#                 # print(k)\n",
    "#                 # print(len(data['sleep_data'][i]))\n",
    "#     timestamps.append(timestamps_i)\n",
    "\n",
    "#     #     # Handle the last sublist separately\n",
    "#     # if data['sleep_data'][i][-1][1] == 4:\n",
    "#     #     last_sublist = data['sleep_data'][i][-1]\n",
    "#     #     for k in range(last_sublist[0], len(data['sleep_data'][i])):\n",
    "#     #         print(k)\n",
    "#     #         print(len(data['sleep_data'][i]))\n",
    "\n",
    "\n",
    "\n",
    "\n",
    "# # #     print(timestamps_i)  # Print the list for debugging purposes\n",
    "# # # print(timestamps)  # Print the main list for debugging purposes\n",
    "\n",
    "# # Create a new column in the dataframe\n",
    "# data['timestamps'] = timestamps\n",
    "\n",
    "# # Save the dataframe to a csv file\n",
    "# data.to_csv('data.csv', index=False)\n",
    "\n",
    "# # # Only show sleep_data and timestamps\n",
    "# # data = data[['sleep_data', 'timestamps']]\n",
    "# # data"
   ]
  },
  {
   "attachments": {},
   "cell_type": "markdown",
   "metadata": {},
   "source": [
    "### Filter fra timestamp til calc_data"
   ]
  },
  {
   "cell_type": "code",
   "execution_count": 139,
   "metadata": {},
   "outputs": [],
   "source": [
    "import ast\n",
    "# data = pd.read_csv('C:/Users/mathi/OneDrive/Skrivebord/2_Sem_Kand/Projekt_Kandidat2/Projekt_Kandidat2/dataNew.csv')\n",
    "\n",
    "# # Convert string representations of lists to actual Python lists\n",
    "# data['calc_data'] = data['calc_data'].apply(ast.literal_eval)\n",
    "# data['timestamps'] = data['timestamps'].apply(ast.literal_eval)\n",
    "\n",
    "# # Create a new column to hold the filtered values\n",
    "# data['filtered_data'] = data['calc_data']\n",
    "\n",
    "# # Loop through the values in the `calc_data` column\n",
    "# for i in range(len(data['calc_data'])):\n",
    "#     # Filter the sublists in the `calc_data` column based on timestamps\n",
    "#     data['filtered_data'][i] = [x for x in data['calc_data'][i] if x[0] not in data['timestamps'][i]]\n",
    "\n",
    "# # Assign the filtered values back to the `calc_data` column\n",
    "# data['calc_data'] = data['filtered_data']\n",
    "# # Drop the temporary `filtered_data` column\n",
    "# data = data.drop('filtered_data', axis=1)\n",
    "\n",
    "\n",
    "\n",
    "# # Save the dataframe to a csv file\n",
    "# data.to_csv('dataNew1.csv', index=False)\n",
    "\n",
    "\n",
    "# # # # Print all the timestamps for one row \n",
    "# # print(data['sleep_data'][3])     # Tjekker at data passer\n",
    "# # print(data['timestamps'][3])\n"
   ]
  },
  {
   "attachments": {},
   "cell_type": "markdown",
   "metadata": {},
   "source": [
    "### Tjekker om filteret er korrekt"
   ]
  },
  {
   "cell_type": "code",
   "execution_count": 140,
   "metadata": {},
   "outputs": [],
   "source": [
    "# data = pd.read_csv('C:/Users/mathi/OneDrive/Skrivebord/2_Sem_Kand/Projekt_Kandidat2/Projekt_Kandidat2/dataNew.csv')\n",
    "# # 1602209607 to 1602211317\n",
    "# # 1602219987 to 1602221307\n",
    "# # Print data for sleep_data row 3\n",
    "# print(data['calc_data'][3])"
   ]
  },
  {
   "attachments": {},
   "cell_type": "markdown",
   "metadata": {},
   "source": [
    "### Frasorterer None værdier"
   ]
  },
  {
   "cell_type": "code",
   "execution_count": 141,
   "metadata": {},
   "outputs": [],
   "source": [
    "# data = pd.read_csv('C:/Users/mathi/OneDrive/Skrivebord/2_Sem_Kand/Projekt_Kandidat2/Projekt_Kandidat2/dataNew1.csv')\n",
    "\n",
    "# # Print data['calc_data'] for patient-id == 510\n",
    "# print(data['calc_data'][data['patient_ID'] == 510])\n",
    "\n",
    "# print(data['calc_data'][2820])\n",
    "\n",
    "# # Convert string representations of lists to actual Python lists\n",
    "# data['calc_data'] = data['calc_data'].apply(ast.literal_eval)\n",
    "\n",
    "# # Remove None \n",
    "# for i in range(len(data['calc_data'])):\n",
    "#     data['calc_data'][i] = [x for x in data['calc_data'][i] if None not in x]\n",
    "\n",
    "\n",
    "# # Save the dataframe to a csv file\n",
    "# data.to_csv('dataNew1.csv', index=False)\n",
    "\n",
    "\n",
    "# # Print data['calc_data'] for patient-id == 510\n",
    "# print(data['calc_data'][data['patient_ID'] == 510])\n",
    "\n",
    "# # print row 2820\n",
    "# print(data['calc_data'][2820])"
   ]
  },
  {
   "attachments": {},
   "cell_type": "markdown",
   "metadata": {},
   "source": [
    "### Kigge på respirations rater"
   ]
  },
  {
   "cell_type": "code",
   "execution_count": 142,
   "metadata": {},
   "outputs": [],
   "source": [
    "# data = pd.read_csv('C:/Users/mathi/OneDrive/Skrivebord/2_Sem_Kand/Projekt_Kandidat2/Projekt_Kandidat2/dataNew1.csv')\n",
    "\n",
    "# # Convert string representations of lists to actual Python lists\n",
    "# data['calc_data'] = data['calc_data'].apply(ast.literal_eval)\n",
    "\n",
    "\n",
    "# # Print row for patient_id == 510\n",
    "# print(data['calc_data'][data['patient_ID'] == 510])\n",
    "\n",
    "# # Print unique values for third element in row 2820 to 2981\n",
    "# for i in range(30, 40):\n",
    "#     print(set([x[2] for x in data['calc_data'][i]]))\n",
    "# # Now print the unique values for third element but for all the rows patient_ID == 510\n",
    "# print(set([x[2] for x in data['calc_data'][data['patient_ID'] == 510]]))"
   ]
  },
  {
   "attachments": {},
   "cell_type": "markdown",
   "metadata": {},
   "source": [
    "### Selve detekteringen af søvnapnø"
   ]
  },
  {
   "cell_type": "code",
   "execution_count": 143,
   "metadata": {},
   "outputs": [],
   "source": [
    "# Vi skal have 3 værdier i streg (12 sekunder) under 12 threshold (Formlen)\n",
    "# Mindst 5 af dem pr. time over en søvncyklus for at have søvnapnø\n",
    "# vi tager sleep duration (s) og dividerer med 3600 for at få timer. Så tager vi antallet af søvn apnøer og dividere med antallet af timer for at få antallet af søvn apnøer pr. time. Antallet af søvn apnøer pr. time skal være over 5 for at have søvnapnø.\n",
    "# Tag antallet af søvnscyklusser. Så tager vi antallet af søvn apnøer og dividere med antallet af søvnscyklusser for at få antallet af søvn apnøer pr. søvnscyklus. Antallet af søvn apnøer pr. søvnscyklus skal være over 5 for at have søvnapnø.\n",
    "\n",
    "# data = pd.read_csv('C:/Users/mathi/OneDrive/Skrivebord/2_Sem_Kand/Projekt_Kandidat2/Projekt_Kandidat2/dataNew1.csv')\n",
    "\n",
    "# # Convert string representations of lists to actual Python lists\n",
    "# data['calc_data'] = data['calc_data'].apply(ast.literal_eval)\n",
    "\n",
    "# # Save unique patient_ID in a list\n",
    "# patient_ID_list = data['patient_ID'].unique()\n",
    "# # Save unique patient_ID in a list as strings\n",
    "# patient_ID_list = [str(x) for x in patient_ID_list]\n",
    "\n",
    "# # Count variabel\n",
    "# count_SleepApnea = 0\n",
    "# count_SleepApnea_All = 0\n",
    "# # Make a list of all the patient_IDs that have sleep apnea\n",
    "# patient_ID_list_SleepApnea = []\n",
    "\n",
    "\n",
    "# # Iterate through the list of patient_ID\n",
    "# for patient_ID in patient_ID_list:\n",
    "#     print(patient_ID)\n",
    "#     for i in range(len(data['calc_data'][data['patient_ID'].astype(str).str.strip() == patient_ID.strip()])):\n",
    "#         # Reset the index\n",
    "#         data = data.reset_index(drop=True)\n",
    "#         # print(\"Length of calc_data:\", len(data['calc_data']))\n",
    "#         # print(i)\n",
    "#         j = 0\n",
    "#         while j < len(data['calc_data'][i])-3:           \n",
    "#             # print(j)\n",
    "\n",
    "#             curr_timestamp = data['calc_data'][i][j][0]\n",
    "#             second_timestamp = data['calc_data'][i][j+1][0]\n",
    "#             third_timestamp = data['calc_data'][i][j+2][0]\n",
    "#             curr_respiratory_rate = data['calc_data'][i][j][2]\n",
    "#             second_respiratory_rate = data['calc_data'][i][j+1][2]\n",
    "#             third_respiratory_rate = data['calc_data'][i][j+2][2]\n",
    "\n",
    "#             if curr_respiratory_rate < 16 and second_respiratory_rate < 16 and third_respiratory_rate < 16 and third_timestamp - curr_timestamp <= 12:\n",
    "#                 # Append +1 to count_SleepApnea\n",
    "#                 count_SleepApnea += 1\n",
    "\n",
    "#                 # Plus 3 to j to skip the next 3 values\n",
    "#                 j += 3\n",
    "#             else:\n",
    "#                 j += 1\n",
    "                \n",
    "#         # duration_in_sleep dividerer med 3600 for at få timer\n",
    "#         duration_in_sleep = (data['duration_in_sleep'][i] / 3600)\n",
    "\n",
    "#         # count_SleepApnea / duration_in_sleep gives antallet af søvn apnøer pr. time pr. cyklus. Count count_SleepApnea_All\n",
    "#         count_SleepApnea_All += count_SleepApnea / duration_in_sleep\n",
    "#         # Reset count_SleepApnea\n",
    "#         count_SleepApnea = 0\n",
    "\n",
    "#     # If count_SleepApnea_All is over 5\n",
    "#     if len(data['calc_data']) != 0:\n",
    "#         count_SleepApnea_All = count_SleepApnea_All / len(data['calc_data'])\n",
    "\n",
    "#     if count_SleepApnea_All > 5:\n",
    "#         # Append patient_ID to patient_ID_list_SleepApnea\n",
    "#         patient_ID_list_SleepApnea.append(patient_ID)\n",
    "#         # Reset count_SleepApnea_All\n",
    "#         count_SleepApnea_All = 0\n",
    "#     else:\n",
    "#         # Reset count_SleepApnea_All\n",
    "#         count_SleepApnea_All = 0\n",
    "\n",
    "# # Print patient_ID_list_SleepApnea\n",
    "# print(patient_ID_list_SleepApnea)"
   ]
  },
  {
   "attachments": {},
   "cell_type": "markdown",
   "metadata": {},
   "source": [
    "### Manuel detektering af søvmapnø (opringninger)"
   ]
  },
  {
   "cell_type": "code",
   "execution_count": 144,
   "metadata": {},
   "outputs": [
    {
     "name": "stdout",
     "output_type": "stream",
     "text": [
      "[431 459 510]\n"
     ]
    }
   ],
   "source": [
    "data = pd.read_csv('C:/Users/mathi/OneDrive/Skrivebord/2_Sem_Kand/Projekt_Kandidat2/Projekt_Kandidat2/dataNew1.csv')\n",
    "\n",
    "# Make a list of all the patient_IDs that have sleep apnea\n",
    "sleepApnea_Opringning = ['510', '459']\n",
    "sleepApnea_Opringning_AND_ApneaDetektion = ['510', '459', '431']\n",
    "\n",
    "#patient_ID\n",
    "\n",
    "# Ved 15 515\n",
    "# Ved 16 ['431', '440', '448', '451', '459', '468', '485', '515']\n",
    "# Ved 17 ['431', '440', '448', '451', '459', '462', '465', '468', '469', '485', '492', '494', '504', '510', '515', '516', '520']\n",
    "\n",
    "### Har søvnapnø\n",
    "# FP2 \n",
    "# 510, 552 (måske), 431 (måske), 459\n",
    "\n",
    "# Afli data\n",
    "# 580 (måske), 579 (måske), 571, 584, 612, 620 (måske)\n",
    "\n",
    "\n",
    "# Add a new column to the dataframe called 'SLEEPAPNEA' and where patient_ID is in sleepApnea_Opringning, then set the value to 1 else 0\n",
    "# Save unique patient_ID in a list\n",
    "patient_ID_list = data['patient_ID'].unique()\n",
    "# Save unique patient_ID in a list as strings\n",
    "patient_ID_list = [str(x) for x in patient_ID_list]\n",
    "\n",
    "for patient_ID in patient_ID_list:\n",
    "    # Use this list sleepApnea_Opringning to determine if the patient has sleep apnea\n",
    "    if patient_ID in sleepApnea_Opringning_AND_ApneaDetektion:\n",
    "        data.loc[data['patient_ID'] == int(patient_ID), 'SLEEPAPNEA'] = 1\n",
    "    else:\n",
    "        data.loc[data['patient_ID'] == int(patient_ID), 'SLEEPAPNEA'] = 0\n",
    "\n",
    "# Print patient_ID that has sleep apnea\n",
    "print(data[data['SLEEPAPNEA'] == 1]['patient_ID'].unique())\n",
    "\n",
    "# Save the dataframe to a csv file\n",
    "data.to_csv('dataPSGandDETEKTION.csv', index=False)\n",
    "\n",
    "\n",
    "\n"
   ]
  }
 ],
 "metadata": {
  "kernelspec": {
   "display_name": "Python 3",
   "language": "python",
   "name": "python3"
  },
  "language_info": {
   "codemirror_mode": {
    "name": "ipython",
    "version": 3
   },
   "file_extension": ".py",
   "mimetype": "text/x-python",
   "name": "python",
   "nbconvert_exporter": "python",
   "pygments_lexer": "ipython3",
   "version": "3.11.0"
  },
  "orig_nbformat": 4,
  "vscode": {
   "interpreter": {
    "hash": "c261aea317cc0286b3b3261fbba9abdec21eaa57589985bb7a274bf54d6cc0a7"
   }
  }
 },
 "nbformat": 4,
 "nbformat_minor": 2
}
