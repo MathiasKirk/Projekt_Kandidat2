{
 "cells": [
  {
   "cell_type": "code",
   "execution_count": 3,
   "metadata": {},
   "outputs": [
    {
     "data": {
      "text/plain": [
       "avg_hr                     1\n",
       "avg_rr                     9\n",
       "avg_act                    0\n",
       "sleep_score                0\n",
       "duration                   0\n",
       "duration_in_bed            0\n",
       "duration_awake             0\n",
       "duration_in_sleep          0\n",
       "duration_in_rem            0\n",
       "duration_in_light          0\n",
       "duration_in_deep           0\n",
       "duration_sleep_onset       0\n",
       "bedexit_duration           0\n",
       "bedexit_count              0\n",
       "bedexit_data            1915\n",
       "tossnturn_count            0\n",
       "from_gmt_offset            0\n",
       "min_hr                     1\n",
       "max_hr                     1\n",
       "min_rr                     9\n",
       "max_rr                     9\n",
       "fm_count                   0\n",
       "fm_data                 3393\n",
       "awakenings                 0\n",
       "hrv_score                  0\n",
       "hrv_lf                     0\n",
       "hrv_hf                     0\n",
       "hrv_rmssd_evening        618\n",
       "hrv_rmssd_morning        618\n",
       "temp_v1_uid             4090\n",
       "patient_ID                 0\n",
       "AGEBL                      0\n",
       "GENDER                     0\n",
       "NYHABL                     0\n",
       "EFTITBL                  265\n",
       "EJREHABBL               2405\n",
       "EJFINISHBL              1514\n",
       "WEIGHTBL                   0\n",
       "HEIGHTBL                   0\n",
       "BPSYSBL                    0\n",
       "BPDIABL                    0\n",
       "HRB                        0\n",
       "Blodtryk, Systolisk      768\n",
       "Blodtryk, Diastolisk     768\n",
       "Puls                     768\n",
       "Vægt                     742\n",
       "Skridt                  1126\n",
       "SLEEPAPNEA                 0\n",
       "dtype: int64"
      ]
     },
     "execution_count": 3,
     "metadata": {},
     "output_type": "execute_result"
    }
   ],
   "source": [
    "import pandas as pd\n",
    "import numpy as np\n",
    "\n",
    "data = pd.read_csv('C:/Users/mathi/OneDrive/Skrivebord/2_Sem_Kand/Projekt_Kandidat2/Projekt_Kandidat2/dataOnlyPSG.csv')\n",
    "\n",
    "# drop Unnamed:, id, device, from, to, calc_data, sleep_data, tossnturn_data, hrv_data, hrv_rmssd_data, from_datetime, timestamps\n",
    "data = data.drop(['Unnamed: 0', 'id', 'device', 'from', 'to', 'calc_data', 'sleep_data', 'tossnturn_data', 'hrv_data', 'hrv_rmssd_data', 'from_datetime', 'timestamps'], axis=1)\n",
    "\n",
    "# Tjek for missing values\n",
    "data.isnull().sum()\n"
   ]
  }
 ],
 "metadata": {
  "kernelspec": {
   "display_name": "Python 3",
   "language": "python",
   "name": "python3"
  },
  "language_info": {
   "codemirror_mode": {
    "name": "ipython",
    "version": 3
   },
   "file_extension": ".py",
   "mimetype": "text/x-python",
   "name": "python",
   "nbconvert_exporter": "python",
   "pygments_lexer": "ipython3",
   "version": "3.11.0"
  },
  "orig_nbformat": 4
 },
 "nbformat": 4,
 "nbformat_minor": 2
}
